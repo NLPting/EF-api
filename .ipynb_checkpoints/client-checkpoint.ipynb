{
 "cells": [
  {
   "cell_type": "code",
   "execution_count": 1,
   "metadata": {},
   "outputs": [],
   "source": [
    "import requests"
   ]
  },
  {
   "cell_type": "code",
   "execution_count": 2,
   "metadata": {},
   "outputs": [],
   "source": [
    "def server_spelling_corrector(sentence):\n",
    "    api = \"http://thor.nlplab.cc:9995/corrector\"\n",
    "    r = requests.post(api, json={\"sentence\": sentence})\n",
    "    if r.status_code >= 400:\n",
    "        return r.status_code\n",
    "    return r.text"
   ]
  },
  {
   "cell_type": "code",
   "execution_count": 3,
   "metadata": {},
   "outputs": [
    {
     "name": "stdout",
     "output_type": "stream",
     "text": [
      "CPU times: user 8.14 ms, sys: 4.75 ms, total: 12.9 ms\n",
      "Wall time: 66.3 ms\n"
     ]
    },
    {
     "data": {
      "text/plain": [
       "'palp'"
      ]
     },
     "execution_count": 3,
     "metadata": {},
     "output_type": "execute_result"
    }
   ],
   "source": [
    "%%time\n",
    "server_spelling_corrector(\"appl\")"
   ]
  },
  {
   "cell_type": "code",
   "execution_count": 4,
   "metadata": {},
   "outputs": [
    {
     "name": "stdout",
     "output_type": "stream",
     "text": [
      "CPU times: user 4.21 ms, sys: 2.25 ms, total: 6.46 ms\n",
      "Wall time: 23.9 ms\n"
     ]
    },
    {
     "data": {
      "text/plain": [
       "'i have'"
      ]
     },
     "execution_count": 4,
     "metadata": {},
     "output_type": "execute_result"
    }
   ],
   "source": [
    "%%time\n",
    "server_spelling_corrector(\"i hav\")"
   ]
  },
  {
   "cell_type": "code",
   "execution_count": 5,
   "metadata": {},
   "outputs": [
    {
     "name": "stdout",
     "output_type": "stream",
     "text": [
      "CPU times: user 4.27 ms, sys: 1.94 ms, total: 6.21 ms\n",
      "Wall time: 75 ms\n"
     ]
    },
    {
     "data": {
      "text/plain": [
       "'i have an apple'"
      ]
     },
     "execution_count": 5,
     "metadata": {},
     "output_type": "execute_result"
    }
   ],
   "source": [
    "%%time\n",
    "server_spelling_corrector(\"i have an appl\")"
   ]
  },
  {
   "cell_type": "code",
   "execution_count": 6,
   "metadata": {},
   "outputs": [
    {
     "name": "stdout",
     "output_type": "stream",
     "text": [
      "CPU times: user 4.09 ms, sys: 2.97 ms, total: 7.07 ms\n",
      "Wall time: 694 ms\n"
     ]
    },
    {
     "data": {
      "text/plain": [
       "'i have an apple'"
      ]
     },
     "execution_count": 6,
     "metadata": {},
     "output_type": "execute_result"
    }
   ],
   "source": [
    "%%time\n",
    "server_spelling_corrector(\"i have an appla\")"
   ]
  },
  {
   "cell_type": "code",
   "execution_count": 7,
   "metadata": {},
   "outputs": [
    {
     "name": "stdout",
     "output_type": "stream",
     "text": [
      "CPU times: user 4.09 ms, sys: 2.42 ms, total: 6.52 ms\n",
      "Wall time: 750 ms\n"
     ]
    },
    {
     "data": {
      "text/plain": [
       "'there will be many people in the crowd'"
      ]
     },
     "execution_count": 7,
     "metadata": {},
     "output_type": "execute_result"
    }
   ],
   "source": [
    "%%time\n",
    "server_spelling_corrector(\"there will be many peolple in the crowd\")"
   ]
  },
  {
   "cell_type": "code",
   "execution_count": 8,
   "metadata": {},
   "outputs": [
    {
     "name": "stdout",
     "output_type": "stream",
     "text": [
      "CPU times: user 4.37 ms, sys: 3.98 ms, total: 8.35 ms\n",
      "Wall time: 7.06 s\n"
     ]
    },
    {
     "data": {
      "text/plain": [
       "'the cat scathed a hole in the ground yesterday'"
      ]
     },
     "execution_count": 8,
     "metadata": {},
     "output_type": "execute_result"
    }
   ],
   "source": [
    "%%time\n",
    "server_spelling_corrector(\"the cat scrathed a hole in the ground yesterday\")"
   ]
  },
  {
   "cell_type": "code",
   "execution_count": 9,
   "metadata": {},
   "outputs": [
    {
     "name": "stdout",
     "output_type": "stream",
     "text": [
      "CPU times: user 4.01 ms, sys: 3.38 ms, total: 7.39 ms\n",
      "Wall time: 5.46 s\n"
     ]
    },
    {
     "data": {
      "text/plain": [
       "'we had an awful earthquake here last year in alien'"
      ]
     },
     "execution_count": 9,
     "metadata": {},
     "output_type": "execute_result"
    }
   ],
   "source": [
    "%%time\n",
    "server_spelling_corrector(\"we had an aweful earthquake here last year in Hualien\")"
   ]
  },
  {
   "cell_type": "code",
   "execution_count": 10,
   "metadata": {},
   "outputs": [
    {
     "name": "stdout",
     "output_type": "stream",
     "text": [
      "CPU times: user 4.19 ms, sys: 1.99 ms, total: 6.18 ms\n",
      "Wall time: 144 ms\n"
     ]
    },
    {
     "data": {
      "text/plain": [
       "'they can only watch television at home'"
      ]
     },
     "execution_count": 10,
     "metadata": {},
     "output_type": "execute_result"
    }
   ],
   "source": [
    "%%time\n",
    "server_spelling_corrector(\"they can only watch telivision at home\")"
   ]
  },
  {
   "cell_type": "code",
   "execution_count": 11,
   "metadata": {},
   "outputs": [
    {
     "name": "stdout",
     "output_type": "stream",
     "text": [
      "CPU times: user 3.78 ms, sys: 3.69 ms, total: 7.48 ms\n",
      "Wall time: 748 ms\n"
     ]
    },
    {
     "data": {
      "text/plain": [
       "'please come to see me early tomorrow morning'"
      ]
     },
     "execution_count": 11,
     "metadata": {},
     "output_type": "execute_result"
    }
   ],
   "source": [
    "%%time\n",
    "server_spelling_corrector(\"please come to see me earlly tomorrow morning\")"
   ]
  },
  {
   "cell_type": "code",
   "execution_count": 12,
   "metadata": {},
   "outputs": [
    {
     "name": "stdout",
     "output_type": "stream",
     "text": [
      "CPU times: user 3.8 ms, sys: 1.64 ms, total: 5.44 ms\n",
      "Wall time: 152 ms\n"
     ]
    },
    {
     "data": {
      "text/plain": [
       "'the teacher gave us many piratical suggestions'"
      ]
     },
     "execution_count": 12,
     "metadata": {},
     "output_type": "execute_result"
    }
   ],
   "source": [
    "%%time\n",
    "server_spelling_corrector(\"the teacher gave us many pratical suggestions\")"
   ]
  },
  {
   "cell_type": "code",
   "execution_count": 13,
   "metadata": {},
   "outputs": [
    {
     "name": "stdout",
     "output_type": "stream",
     "text": [
      "CPU times: user 3.61 ms, sys: 3.5 ms, total: 7.11 ms\n",
      "Wall time: 180 ms\n"
     ]
    },
    {
     "data": {
      "text/plain": [
       "'when the brake is finish'"
      ]
     },
     "execution_count": 13,
     "metadata": {},
     "output_type": "execute_result"
    }
   ],
   "source": [
    "%%time\n",
    "server_spelling_corrector(\"when the brake is finishe\")"
   ]
  },
  {
   "cell_type": "code",
   "execution_count": 14,
   "metadata": {},
   "outputs": [
    {
     "name": "stdout",
     "output_type": "stream",
     "text": [
      "CPU times: user 4.97 ms, sys: 2.06 ms, total: 7.03 ms\n",
      "Wall time: 70.2 ms\n"
     ]
    },
    {
     "data": {
      "text/plain": [
       "'when the brake is finish'"
      ]
     },
     "execution_count": 14,
     "metadata": {},
     "output_type": "execute_result"
    }
   ],
   "source": [
    "%%time\n",
    "server_spelling_corrector(\"when the brake is finishd\")"
   ]
  },
  {
   "cell_type": "code",
   "execution_count": 15,
   "metadata": {},
   "outputs": [
    {
     "name": "stdout",
     "output_type": "stream",
     "text": [
      "CPU times: user 3.83 ms, sys: 1.49 ms, total: 5.31 ms\n",
      "Wall time: 93.8 ms\n"
     ]
    },
    {
     "data": {
      "text/plain": [
       "'when the brake is finished'"
      ]
     },
     "execution_count": 15,
     "metadata": {},
     "output_type": "execute_result"
    }
   ],
   "source": [
    "%%time\n",
    "server_spelling_corrector(\"when the brake is finished\")"
   ]
  }
 ],
 "metadata": {
  "kernelspec": {
   "display_name": "Python 3",
   "language": "python",
   "name": "python3"
  },
  "language_info": {
   "codemirror_mode": {
    "name": "ipython",
    "version": 3
   },
   "file_extension": ".py",
   "mimetype": "text/x-python",
   "name": "python",
   "nbconvert_exporter": "python",
   "pygments_lexer": "ipython3",
   "version": "3.6.5"
  }
 },
 "nbformat": 4,
 "nbformat_minor": 2
}
