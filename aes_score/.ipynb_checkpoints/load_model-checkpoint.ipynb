{
 "cells": [
  {
   "cell_type": "code",
   "execution_count": 1,
   "metadata": {},
   "outputs": [
    {
     "name": "stderr",
     "output_type": "stream",
     "text": [
      "Using TensorFlow backend.\n"
     ]
    }
   ],
   "source": [
    "from util import  predict_cerf"
   ]
  },
  {
   "cell_type": "code",
   "execution_count": 2,
   "metadata": {},
   "outputs": [],
   "source": [
    "text = '''\n",
    "'Robots in my country By now , there are no intelligent service robots in the households . Though , on the other hand , most electric devices contains some kind of a microprocessor that makes them intelligent in some kind of way . In my opinion these are the precursor of those service robots . Nevertheless , the influence of those robots is quite difference . For the good they are simplifying the life a lot allowing the user a broad range of functions by just pushing some buttons . But the negative aspect of robots is the dependency of human life on robots as well as electric power . Considering the problems during a blackout must result in the opinion that robots are defining our daily life . And this conclusion can be emphasized by looking at the development of work conditions . Where once have been manufactures now there are assembly lines where most of the work is done by robots . This lead to the loss of many jobs . So to put all in a nutshell the future of robots and with robots has a great potential but also contains a great dependency and can result in negative effects .'\n",
    "'''"
   ]
  },
  {
   "cell_type": "code",
   "execution_count": 4,
   "metadata": {},
   "outputs": [
    {
     "data": {
      "text/plain": [
       "'C2'"
      ]
     },
     "execution_count": 4,
     "metadata": {},
     "output_type": "execute_result"
    }
   ],
   "source": [
    "predict_cerf(text)"
   ]
  },
  {
   "cell_type": "code",
   "execution_count": null,
   "metadata": {},
   "outputs": [],
   "source": []
  }
 ],
 "metadata": {
  "kernelspec": {
   "display_name": "elmoblistm",
   "language": "python",
   "name": "elmoblistm"
  },
  "language_info": {
   "codemirror_mode": {
    "name": "ipython",
    "version": 3
   },
   "file_extension": ".py",
   "mimetype": "text/x-python",
   "name": "python",
   "nbconvert_exporter": "python",
   "pygments_lexer": "ipython3",
   "version": "3.6.7"
  }
 },
 "nbformat": 4,
 "nbformat_minor": 2
}
