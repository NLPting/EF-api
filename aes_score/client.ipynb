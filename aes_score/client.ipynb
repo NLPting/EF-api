{
 "cells": [
  {
   "cell_type": "code",
   "execution_count": 31,
   "metadata": {},
   "outputs": [],
   "source": [
    "import requests"
   ]
  },
  {
   "cell_type": "code",
   "execution_count": 32,
   "metadata": {},
   "outputs": [],
   "source": [
    "text = '''\n",
    "'Robots in my country By now , there are no intelligent service robots in the households . Though , on the other hand , most electric devices contains some kind of a microprocessor that makes them intelligent in some kind of way . In my opinion these are the precursor of those service robots . Nevertheless , the influence of those robots is quite difference . For the good they are simplifying the life a lot allowing the user a broad range of functions by just pushing some buttons . But the negative aspect of robots is the dependency of human life on robots as well as electric power . Considering the problems during a blackout must result in the opinion that robots are defining our daily life . And this conclusion can be emphasized by looking at the development of work conditions . Where once have been manufactures now there are assembly lines where most of the work is done by robots . This lead to the loss of many jobs . So to put all in a nutshell the future of robots and with robots has a great potential but also contains a great dependency and can result in negative effects .'\n",
    "'''"
   ]
  },
  {
   "cell_type": "code",
   "execution_count": 33,
   "metadata": {},
   "outputs": [],
   "source": [
    "def aes_score(sentence):\n",
    "    api = \"http://thor.nlplab.cc:7777/aes\"\n",
    "    r = requests.post(api, json={\"courpus\": sentence})\n",
    "    if r.status_code >= 400:\n",
    "        return r.status_code\n",
    "    return r.text"
   ]
  },
  {
   "cell_type": "code",
   "execution_count": 34,
   "metadata": {},
   "outputs": [
    {
     "name": "stdout",
     "output_type": "stream",
     "text": [
      "CPU times: user 2.69 ms, sys: 708 µs, total: 3.4 ms\n",
      "Wall time: 19.9 ms\n"
     ]
    },
    {
     "data": {
      "text/plain": [
       "'C2'"
      ]
     },
     "execution_count": 34,
     "metadata": {},
     "output_type": "execute_result"
    }
   ],
   "source": [
    "%%time\n",
    "aes_score(text)"
   ]
  },
  {
   "cell_type": "code",
   "execution_count": null,
   "metadata": {},
   "outputs": [],
   "source": []
  }
 ],
 "metadata": {
  "kernelspec": {
   "display_name": "Python 3",
   "language": "python",
   "name": "python3"
  },
  "language_info": {
   "codemirror_mode": {
    "name": "ipython",
    "version": 3
   },
   "file_extension": ".py",
   "mimetype": "text/x-python",
   "name": "python",
   "nbconvert_exporter": "python",
   "pygments_lexer": "ipython3",
   "version": "3.7.0"
  }
 },
 "nbformat": 4,
 "nbformat_minor": 2
}
