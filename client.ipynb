{
 "cells": [
  {
   "cell_type": "code",
   "execution_count": 27,
   "metadata": {},
   "outputs": [],
   "source": [
    "import requests\n",
    "def aes_score(sentence):\n",
    "    api = \"http://thor.nlplab.cc:7777/aes\"\n",
    "    r = requests.post(api, json={\"courpus\": sentence})\n",
    "    if r.status_code >= 400:\n",
    "        return r.status_code\n",
    "    return r.text"
   ]
  },
  {
   "cell_type": "code",
   "execution_count": 28,
   "metadata": {},
   "outputs": [],
   "source": [
    "test_x = [i.replace('\\n','') for i in open('test.src.txt').readlines()]\n",
    "test_label = [int(i.replace('\\n','')) for i in open('test.trg.txt').readlines()]"
   ]
  },
  {
   "cell_type": "code",
   "execution_count": 50,
   "metadata": {},
   "outputs": [
    {
     "data": {
      "text/plain": [
       "'Dear friend ,. In my cowntry education in a public elementary schools is not god , moust of time is very usual the the kids do not respect the teachers and the teachers does not have god qualification ang god salarys .. In rigth schoos hapens the some thing , if you want give a god education and knowledge to your childrens i adivice you to find a private schools , here there excelentes privates schools with excelente reputation but in case of universitys is totaly oposite , the publics have a excelent reputation and moust of theachers has master degree and doctorate .'"
      ]
     },
     "execution_count": 50,
     "metadata": {},
     "output_type": "execute_result"
    }
   ],
   "source": [
    "i = 00\n",
    "test = test_x[i]\n",
    "test"
   ]
  },
  {
   "cell_type": "code",
   "execution_count": 51,
   "metadata": {},
   "outputs": [
    {
     "data": {
      "text/plain": [
       "2"
      ]
     },
     "execution_count": 51,
     "metadata": {},
     "output_type": "execute_result"
    }
   ],
   "source": [
    "test_label[i]"
   ]
  },
  {
   "cell_type": "code",
   "execution_count": 52,
   "metadata": {},
   "outputs": [
    {
     "name": "stdout",
     "output_type": "stream",
     "text": [
      "CPU times: user 0 ns, sys: 3.35 ms, total: 3.35 ms\n",
      "Wall time: 9.08 ms\n"
     ]
    },
    {
     "data": {
      "text/plain": [
       "'B1'"
      ]
     },
     "execution_count": 52,
     "metadata": {},
     "output_type": "execute_result"
    }
   ],
   "source": [
    "%%time\n",
    "aes_score(test)"
   ]
  },
  {
   "cell_type": "code",
   "execution_count": null,
   "metadata": {},
   "outputs": [],
   "source": []
  }
 ],
 "metadata": {
  "kernelspec": {
   "display_name": "Python 3",
   "language": "python",
   "name": "python3"
  },
  "language_info": {
   "codemirror_mode": {
    "name": "ipython",
    "version": 3
   },
   "file_extension": ".py",
   "mimetype": "text/x-python",
   "name": "python",
   "nbconvert_exporter": "python",
   "pygments_lexer": "ipython3",
   "version": "3.7.0"
  }
 },
 "nbformat": 4,
 "nbformat_minor": 2
}
